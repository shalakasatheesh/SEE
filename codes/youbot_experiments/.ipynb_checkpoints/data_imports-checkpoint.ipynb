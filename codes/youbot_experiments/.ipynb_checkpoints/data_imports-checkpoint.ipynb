{
 "cells": [
  {
   "cell_type": "code",
   "execution_count": 22,
   "metadata": {},
   "outputs": [
    {
     "name": "stdout",
     "output_type": "stream",
     "text": [
      "Experiments with small bar resulted in 48 straight, 40 left and 40 right trials\n",
      "Experiments with medium bar resulted in 40 straight, 40 left and 40 right trials\n",
      "Experiments with large bar resulted in 40 straight, 40 left and 44 right trials\n"
     ]
    }
   ],
   "source": [
    "import os\n",
    "from typing import List, NamedTuple\n",
    "import numpy as np\n",
    "import csv\n",
    "import matplotlib.pyplot as plt\n",
    "import numpy as np\n",
    "import pandas as pd\n",
    "from scipy.stats import norm,iqr\n",
    "\n",
    "verbose = False\n",
    "\n",
    "Row = NamedTuple(\"Row\", x=float, y=float, z=float)\n",
    "    \n",
    "dir_data = \"/\".join(os.path.abspath('').split(\"/\")[:-2]) + \"/data/Assignment_4_1/\"\n",
    "assert os.path.isdir(dir_data), \"Could not find the data directory\"\n",
    "\n",
    "path_poses_small = dir_data + \"/poses/small\"\n",
    "path_poses_medium = dir_data + \"/poses/medium\"\n",
    "path_poses_large = dir_data + \"/poses/large\"\n",
    "\n",
    "\n",
    "assert all(os.path.isdir(path) for path in [path_poses_small, path_poses_medium, path_poses_large])\n",
    "\n",
    "\n",
    "export_folder = os.path.join(dir_data, \"export\")\n",
    "\n",
    "if not os.path.exists(export_folder):\n",
    "    os.makedirs(export_folder)\n",
    "\n",
    "data = {\n",
    "    \"small\": {\n",
    "        \"straight\": [],\n",
    "        \"left\": [],\n",
    "        \"right\": []\n",
    "    },\n",
    "    \"medium\": {\n",
    "        \"straight\": [],\n",
    "        \"left\": [],\n",
    "        \"right\": []\n",
    "    },\n",
    "    \"large\": {\n",
    "        \"straight\": [],\n",
    "        \"left\": [],\n",
    "        \"right\": []\n",
    "    }\n",
    "}\n",
    "\n",
    "for path in [path_poses_small, path_poses_medium, path_poses_large]:\n",
    "    for file in os.listdir(path):\n",
    "        if \"straight\" in file:\n",
    "            file_type = \"straight\"\n",
    "        elif \"left\" in file:\n",
    "            file_type = \"left\"\n",
    "        elif \"right\" in file:\n",
    "            file_type = \"right\"\n",
    "        else:\n",
    "            raise Exception(f\"weird filetype: {file}\")\n",
    "            \n",
    "        with open(os.path.join(path, file)) as f:\n",
    "            reader = csv.reader(f)\n",
    "            entries = [Row(e[0], e[1], e[2]) for e in list(reader)]\n",
    "            size = path.split(\"/\")[-1]\n",
    "            \n",
    "            if verbose:\n",
    "                print(f\"Found {len(entries)} rows in {file}\")\n",
    "            data[size][file_type].append(entries)\n",
    "            \n",
    "    \n",
    "print(f\"Experiments with small bar resulted in {len(data['small']['straight'])} straight, {len(data['small']['left'])} left and {len(data['small']['right'])} right trials\")\n",
    "print(f\"Experiments with medium bar resulted in {len(data['medium']['straight'])} straight, {len(data['medium']['left'])} left and {len(data['medium']['right'])} right trials\")\n",
    "print(f\"Experiments with large bar resulted in {len(data['large']['straight'])} straight, {len(data['large']['left'])} left and {len(data['large']['right'])} right trials\")"
   ]
  },
  {
   "cell_type": "code",
   "execution_count": null,
   "metadata": {},
   "outputs": [],
   "source": []
  }
 ],
 "metadata": {
  "kernelspec": {
   "display_name": "Python 3",
   "language": "python",
   "name": "python3"
  },
  "language_info": {
   "codemirror_mode": {
    "name": "ipython",
    "version": 3
   },
   "file_extension": ".py",
   "mimetype": "text/x-python",
   "name": "python",
   "nbconvert_exporter": "python",
   "pygments_lexer": "ipython3",
   "version": "3.8.5"
  }
 },
 "nbformat": 4,
 "nbformat_minor": 4
}

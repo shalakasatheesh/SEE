{
 "cells": [
  {
   "cell_type": "code",
   "execution_count": 4,
   "id": "distant-moral",
   "metadata": {},
   "outputs": [],
   "source": [
    "import numpy as np\n",
    "import sympy as sp\n",
    "import os\n",
    "import sys\n"
   ]
  },
  {
   "cell_type": "code",
   "execution_count": 5,
   "id": "promising-closer",
   "metadata": {},
   "outputs": [],
   "source": [
    "## All distances measurement are in centimeters(cm) and angles in degrees \n",
    "\n",
    "\n",
    "def error_upper_bound(lamd_jacobian,lamd_theta_eq,coordinate_list,error_model=[0.1,-0.1,-0.1,0.1]):\n",
    "    \n",
    "    '''\n",
    "    Calculate the upper error bound\n",
    "    \n",
    "    Parameters\n",
    "    ----------------\n",
    "    lamd_jacobian  : A lamdified jacobian matrix acting like a numpy array\n",
    "    lamd_theta_eq  : A lamdified variable matrix acting like a numpy array\n",
    "    coordinate_list: The current coordinates of the robot\n",
    "    error_model    : The estimated error bounds for robot\n",
    "    \n",
    "    \n",
    "    Returns\n",
    "    ----------------\n",
    "    A numpy array of propagated upper bound error\n",
    "    \n",
    "    \n",
    "    '''\n",
    "    \n",
    "    ## The variables are in the order x1, x2, y1, y2\n",
    "    current_jacobian=lamd_jacobian(coordinate_list[0],coordinate_list[1],coordinate_list[2],coordinate_list[3])\n",
    "    current_theta_eq=lamd_theta_eq(error_model[0],error_model[1],error_model[2],error_model[3])\n",
    "    \n",
    "    error_upper=np.rad2deg(np.dot(current_jacobian,current_theta_eq))\n",
    "    \n",
    "    return error_upper\n",
    "    \n",
    "\n",
    "\n",
    "def error_lower_bound(lamd_jacobian,lamd_theta_eq,coordinate_list,error_model=[-0.1,0.1,0.1,-0.1]):\n",
    "    '''\n",
    "    Calculate the lower error bound\n",
    "    \n",
    "    Parameters\n",
    "    ----------------\n",
    "    lamd_jacobian  : A lamdified jacobian matrix acting like a numpy array\n",
    "    lamd_theta_eq  : A lamdified variable matrix acting like a numpy array\n",
    "    coordinate_list: The current coordinates of the robot\n",
    "    error_model    : The estimated error bounds for robot\n",
    "    \n",
    "    \n",
    "    Returns\n",
    "    ----------------\n",
    "    A numpy array of propagted lower bound error\n",
    "    \n",
    "    \n",
    "    '''\n",
    "    ## The variables are in the order x1, x2, y1, y2\n",
    "    current_jacobian=lamd_jacobian(coordinate_list[0],coordinate_list[1],coordinate_list[2],coordinate_list[3])\n",
    "    current_theta_eq=lamd_theta_eq(error_model[0],error_model[1],error_model[2],error_model[3])\n",
    "    \n",
    "    error_lower=np.rad2deg(np.dot(current_jacobian,current_theta_eq))\n",
    "   \n",
    "\n",
    "    return error_lower\n",
    "    \n"
   ]
  },
  {
   "cell_type": "code",
   "execution_count": 6,
   "id": "standard-gambling",
   "metadata": {
    "scrolled": true
   },
   "outputs": [
    {
     "name": "stdout",
     "output_type": "stream",
     "text": [
      "The Jacobian is \n",
      "\n"
     ]
    },
    {
     "data": {
      "text/latex": [
       "$\\displaystyle \\left[\\begin{matrix}- \\frac{y_{1} - y_{2}}{\\left(- x_{1} + x_{2}\\right)^{2} + \\left(- y_{1} + y_{2}\\right)^{2}} & \\frac{y_{1} - y_{2}}{\\left(- x_{1} + x_{2}\\right)^{2} + \\left(- y_{1} + y_{2}\\right)^{2}} & - \\frac{- x_{1} + x_{2}}{\\left(- x_{1} + x_{2}\\right)^{2} + \\left(- y_{1} + y_{2}\\right)^{2}} & \\frac{- x_{1} + x_{2}}{\\left(- x_{1} + x_{2}\\right)^{2} + \\left(- y_{1} + y_{2}\\right)^{2}}\\end{matrix}\\right]$"
      ],
      "text/plain": [
       "Matrix([[-(y1 - y2)/((-x1 + x2)**2 + (-y1 + y2)**2), (y1 - y2)/((-x1 + x2)**2 + (-y1 + y2)**2), -(-x1 + x2)/((-x1 + x2)**2 + (-y1 + y2)**2), (-x1 + x2)/((-x1 + x2)**2 + (-y1 + y2)**2)]])"
      ]
     },
     "metadata": {},
     "output_type": "display_data"
    },
    {
     "data": {
      "text/latex": [
       "$\\displaystyle \\left[\\begin{matrix}\\operatorname{atan_{2}}{\\left(- y_{1} + y_{2},- x_{1} + x_{2} \\right)}\\end{matrix}\\right]$"
      ],
      "text/plain": [
       "Matrix([[atan2(-y1 + y2, -x1 + x2)]])"
      ]
     },
     "metadata": {},
     "output_type": "display_data"
    },
    {
     "name": "stdout",
     "output_type": "stream",
     "text": [
      "The error matrix is \n",
      "\n"
     ]
    },
    {
     "data": {
      "text/latex": [
       "$\\displaystyle \\left[\\begin{matrix}x_{1}\\\\x_{2}\\\\y_{1}\\\\y_{2}\\end{matrix}\\right]$"
      ],
      "text/plain": [
       "Matrix([\n",
       "[x1],\n",
       "[x2],\n",
       "[y1],\n",
       "[y2]])"
      ]
     },
     "metadata": {},
     "output_type": "display_data"
    },
    {
     "name": "stdout",
     "output_type": "stream",
     "text": [
      "\n",
      " \n",
      " The error function is \n",
      " \n"
     ]
    },
    {
     "data": {
      "text/latex": [
       "$\\displaystyle \\left[\\begin{matrix}- \\frac{x_{1} \\left(y_{1} - y_{2}\\right)}{\\left(- x_{1} + x_{2}\\right)^{2} + \\left(- y_{1} + y_{2}\\right)^{2}} + \\frac{x_{2} \\left(y_{1} - y_{2}\\right)}{\\left(- x_{1} + x_{2}\\right)^{2} + \\left(- y_{1} + y_{2}\\right)^{2}} - \\frac{y_{1} \\left(- x_{1} + x_{2}\\right)}{\\left(- x_{1} + x_{2}\\right)^{2} + \\left(- y_{1} + y_{2}\\right)^{2}} + \\frac{y_{2} \\left(- x_{1} + x_{2}\\right)}{\\left(- x_{1} + x_{2}\\right)^{2} + \\left(- y_{1} + y_{2}\\right)^{2}}\\end{matrix}\\right]$"
      ],
      "text/plain": [
       "Matrix([[-x1*(y1 - y2)/((-x1 + x2)**2 + (-y1 + y2)**2) + x2*(y1 - y2)/((-x1 + x2)**2 + (-y1 + y2)**2) - y1*(-x1 + x2)/((-x1 + x2)**2 + (-y1 + y2)**2) + y2*(-x1 + x2)/((-x1 + x2)**2 + (-y1 + y2)**2)]])"
      ]
     },
     "metadata": {},
     "output_type": "display_data"
    }
   ],
   "source": [
    "## Create the jacobian for the matrix\n",
    "## Even if the angle theta is 90-calulated angle the error propagation is the same \n",
    "\n",
    "## Creating the Jacobian\n",
    "\n",
    "x1,x2,y1,y2,theta=sp.symbols('x1,x2,y1,y2,theta')\n",
    "##Check here if it should be atan or atan2\n",
    "eq1=sp.atan2((y2-y1),(x2-x1))\n",
    "\n",
    "theta_eq=sp.Matrix([eq1])\n",
    "measurement_eq= sp.Matrix([x1, x2, y1, y2])\n",
    "\n",
    "error_jacobian=theta_eq.jacobian(measurement_eq)\n",
    "print(\"The Jacobian is \\n\")\n",
    "display(error_jacobian)\n",
    "display(theta_eq)\n",
    "\n",
    "print(f\"The error matrix is \\n\")\n",
    "display(measurement_eq)\n",
    "\n",
    "print(\"\\n \\n The error function is \\n \")\n",
    "display(error_jacobian*measurement_eq)\n",
    "lamd_jacobian=sp.lambdify([x1, x2, y1, y2],error_jacobian,'numpy')\n",
    "lamd_theta_eq=sp.lambdify([x1, x2, y1, y2],measurement_eq,'numpy')"
   ]
  },
  {
   "cell_type": "code",
   "execution_count": 7,
   "id": "bacterial-asian",
   "metadata": {},
   "outputs": [],
   "source": [
    "##This is a test run data from 5 runs in each category(straigh,left and right)\n",
    "## This dictionary is here to easily show how the data was collected \n",
    "## A sepearate list will be made to make this calling of data easier\n",
    "sample_test_data_1={\n",
    "    \"straight\": [\n",
    "        {\"x1\": 1.5, \"y1\": 48.1, \"x2\": 16.3, \"y2\": 47.4},\n",
    "        {\"x1\": -1.5, \"y1\": 46.9, \"x2\": 13.2, \"y2\": 47.3},\n",
    "        {\"x1\": -3.1, \"y1\": 45.5, \"x2\": 14.2, \"y2\": 46.4},\n",
    "        {\"x1\": 0.7, \"y1\": 45.1, \"x2\": 15.4, \"y2\": 44.7},\n",
    "        {\"x1\": -0.2, \"y1\": 45.8, \"x2\": 14.7, \"y2\": 45.9}\n",
    "    ],\n",
    "    \"left\": [\n",
    "        {\"x1\": -19.3, \"y1\": 24.6, \"x2\": -11.2, \"y2\": 36.8},\n",
    "        {\"x1\": -20.1, \"y1\": 26.5, \"x2\": -12.1, \"y2\": 39.0},\n",
    "        {\"x1\": -19.8, \"y1\": 26.8, \"x2\": -11.7, \"y2\": 39.2},\n",
    "        {\"x1\": -21.1, \"y1\": 24.9, \"x2\": -13.4, \"y2\": 37.5},\n",
    "        {\"x1\": -18.6, \"y1\": 25.6, \"x2\": -10.0, \"y2\": 37.6}\n",
    "    ],\n",
    "    \"right\": [\n",
    "        {\"x1\": 27.4, \"y1\": 37.1, \"x2\": 35.3, \"y2\": 24.5},\n",
    "        {\"x1\": 28.1, \"y1\": 36.9, \"x2\": 35.7, \"y2\": 24.1},\n",
    "        {\"x1\": 27.8, \"y1\": 39.1, \"x2\": 35.6, \"y2\": 26.4},\n",
    "        {\"x1\": 27.1, \"y1\": 38.1, \"x2\": 35.0, \"y2\": 25.6},\n",
    "        {\"x1\": 27.6, \"y1\": 39.2, \"x2\": 35.1, \"y2\": 26.7}\n",
    "    ],\n",
    "    \"origin\": {\"x0\": 0, \"y0\": 0, \"x0_2\": 14.8, \"y0_2\": 0}\n",
    "}"
   ]
  },
  {
   "cell_type": "code",
   "execution_count": 8,
   "id": "dedicated-little",
   "metadata": {},
   "outputs": [],
   "source": [
    "def call_data(cat,index):\n",
    "    '''\n",
    "    This functions retuns the values from the dictionary of sample run data\n",
    "    Parameters\n",
    "    ------------------------\n",
    "    cat   : The category of motion eg:Left -> char\n",
    "    index : The index of run               -> int\n",
    "    \n",
    "    Returns\n",
    "    ------------------------\n",
    "    out_list: output the list of data in order [x1,x2,y1,y2] -> list\n",
    "    \n",
    "    \n",
    "    '''\n",
    "    \n",
    "    if cat=='s':\n",
    "        out_list=np.array([sample_test_data_1['straight'][index]['x1'],sample_test_data_1['straight'][index]['x2'],\\\n",
    "                 sample_test_data_1['straight'][index]['y1'],sample_test_data_1['straight'][index]['y2']])\n",
    "        \n",
    "    if cat=='l':\n",
    "        out_list=np.array([sample_test_data_1['left'][index]['x1'],sample_test_data_1['left'][index]['x2'],\\\n",
    "                 sample_test_data_1['left'][index]['y1'],sample_test_data_1['left'][index]['y2']])\n",
    "        \n",
    "    if cat=='r':\n",
    "        out_list=np.array([sample_test_data_1['right'][index]['x1'],sample_test_data_1['right'][index]['x2'],\\\n",
    "                 sample_test_data_1['right'][index]['y1'],sample_test_data_1['right'][index]['y2']])\n",
    "    \n",
    "    \n",
    "    return out_list\n",
    "    \n",
    "    \n",
    "    "
   ]
  },
  {
   "cell_type": "code",
   "execution_count": 9,
   "id": "sacred-compression",
   "metadata": {},
   "outputs": [
    {
     "name": "stdout",
     "output_type": "stream",
     "text": [
      "For straight motion of measurements in order [x1,x2,y1,y2] [ 1.5 16.3 48.1 47.4]\n",
      "The error upper bound for straight motion is 0.736 radians \n",
      "\n",
      "The error lower bound for straight motion is -0.736 radians \n",
      "\n",
      "For left motion of measurements in order [x1,x2,y1,y2] [-19.3 -11.2  24.6  36.8]\n",
      "The error upper bound for left motion is 1.08473 radians \n",
      "\n",
      "The error lower bound for left motion is -1.08473 radians \n",
      "\n",
      "For right motion of measurements in order [x1,x2,y1,y2] [27.4 35.3 37.1 24.5]\n",
      "The error upper bound for right motion is -0.24351 radians \n",
      "\n",
      "The error lower bound for right motion is 0.24351 radians \n",
      "\n"
     ]
    }
   ],
   "source": [
    "## Use this line to manually enter for a error bound\n",
    "\n",
    "\n",
    "\n",
    "## The variables are in the order x1, x2, y1, y2\n",
    "\n",
    "\n",
    "coordinate_list_s=call_data('s',0)\n",
    "error_upper_straight=error_upper_bound(lamd_jacobian,lamd_theta_eq,coordinate_list_s)\n",
    "error_lower_straight=error_lower_bound(lamd_jacobian,lamd_theta_eq,coordinate_list_s)\n",
    "\n",
    "\n",
    "coordinate_list_l=call_data('l',0)\n",
    "error_upper_left=error_upper_bound(lamd_jacobian,lamd_theta_eq,coordinate_list_l)\n",
    "error_lower_left=error_lower_bound(lamd_jacobian,lamd_theta_eq,coordinate_list_l)\n",
    "\n",
    "\n",
    "coordinate_list_r=call_data('r',0)\n",
    "error_upper_right=error_upper_bound(lamd_jacobian,lamd_theta_eq,coordinate_list_r)\n",
    "error_lower_right=error_lower_bound(lamd_jacobian,lamd_theta_eq,coordinate_list_r)\n",
    "\n",
    "print(f'For straight motion of measurements in order [x1,x2,y1,y2] {coordinate_list_s}')\n",
    "print(f'The error upper bound for straight motion is {round(error_upper_straight[0][0],5)} radians \\n')\n",
    "print(f'The error lower bound for straight motion is {round(error_lower_straight[0][0],5)} radians \\n')\n",
    "\n",
    "print(f'For left motion of measurements in order [x1,x2,y1,y2] {coordinate_list_l}')\n",
    "print(f'The error upper bound for left motion is {round(error_upper_left[0][0],5)} radians \\n')\n",
    "print(f'The error lower bound for left motion is {round(error_lower_left[0][0],5)} radians \\n')\n",
    "\n",
    "print(f'For right motion of measurements in order [x1,x2,y1,y2] {coordinate_list_r}')\n",
    "print(f'The error upper bound for right motion is {round(error_upper_right[0][0],5)} radians \\n')\n",
    "print(f'The error lower bound for right motion is {round(error_lower_right[0][0],5)} radians \\n')"
   ]
  },
  {
   "cell_type": "code",
   "execution_count": 10,
   "id": "binary-flesh",
   "metadata": {},
   "outputs": [
    {
     "ename": "FileNotFoundError",
     "evalue": "[Errno 2] No such file or directory: '/home/malika/Documents/Bonn Stuff/SEE/Report/SEE/codes/coordinate_list.txt'",
     "output_type": "error",
     "traceback": [
      "\u001b[0;31m---------------------------------------------------------------------------\u001b[0m",
      "\u001b[0;31mFileNotFoundError\u001b[0m                         Traceback (most recent call last)",
      "\u001b[0;32m<ipython-input-10-09dbed26be11>\u001b[0m in \u001b[0;36m<module>\u001b[0;34m\u001b[0m\n\u001b[1;32m      2\u001b[0m \u001b[0;34m\u001b[0m\u001b[0m\n\u001b[1;32m      3\u001b[0m \u001b[0mfile_path\u001b[0m \u001b[0;34m=\u001b[0m \u001b[0mos\u001b[0m\u001b[0;34m.\u001b[0m\u001b[0mpath\u001b[0m\u001b[0;34m.\u001b[0m\u001b[0mjoin\u001b[0m\u001b[0;34m(\u001b[0m\u001b[0mos\u001b[0m\u001b[0;34m.\u001b[0m\u001b[0mgetcwd\u001b[0m\u001b[0;34m(\u001b[0m\u001b[0;34m)\u001b[0m\u001b[0;34m,\u001b[0m\u001b[0;34m'coordinate_list.txt'\u001b[0m\u001b[0;34m)\u001b[0m\u001b[0;34m\u001b[0m\u001b[0;34m\u001b[0m\u001b[0m\n\u001b[0;32m----> 4\u001b[0;31m \u001b[0;32mwith\u001b[0m \u001b[0mopen\u001b[0m\u001b[0;34m(\u001b[0m\u001b[0mfile_path\u001b[0m\u001b[0;34m)\u001b[0m \u001b[0;32mas\u001b[0m \u001b[0mfile\u001b[0m\u001b[0;34m:\u001b[0m\u001b[0;34m\u001b[0m\u001b[0;34m\u001b[0m\u001b[0m\n\u001b[0m\u001b[1;32m      5\u001b[0m     \u001b[0mdata\u001b[0m \u001b[0;34m=\u001b[0m \u001b[0mfile\u001b[0m\u001b[0;34m.\u001b[0m\u001b[0mreadlines\u001b[0m\u001b[0;34m(\u001b[0m\u001b[0;34m)\u001b[0m\u001b[0;34m\u001b[0m\u001b[0;34m\u001b[0m\u001b[0m\n\u001b[1;32m      6\u001b[0m \u001b[0;34m\u001b[0m\u001b[0m\n",
      "\u001b[0;31mFileNotFoundError\u001b[0m: [Errno 2] No such file or directory: '/home/malika/Documents/Bonn Stuff/SEE/Report/SEE/codes/coordinate_list.txt'"
     ]
    }
   ],
   "source": [
    "##Use this to read from text file of the positions and calculate error for each reading\n",
    "\n",
    "file_path = os.path.join(os.getcwd(),'coordinate_list.txt')\n",
    "with open(file_path) as file:\n",
    "    data = file.readlines()\n",
    "\n",
    "\n",
    "propagated_error=np.zeros((len(data),6))\n",
    "\n",
    "file_name='Propagated_Error'\n",
    "try:\n",
    "\n",
    "\n",
    "    f=open(file_path+file_name,'x') ##Open/Create a file to store data\n",
    "\n",
    "\n",
    "except :\n",
    "\n",
    "    print(\"\\n Maps already exist in results folder \\n\")\n",
    "\n",
    "\n",
    "\n",
    "for position in data:\n",
    "    \n",
    "    error_upper=error_upper_bound(lamd_jacobian,lamd_theta_eq,position)\n",
    "    error_lower=error_lower_bound(lamd_jacobian,lamd_theta_eq,position)\n",
    "    propagated_error[0:3]=position\n",
    "    propagated_error[4]=error_upper\n",
    "    propagated_error[5]=error_lower\n",
    "    f.write(propagated_error+'\\n')\n",
    "    \n",
    "    \n",
    "f.close()\n",
    "    \n",
    "    \n",
    "\n",
    "    \n"
   ]
  },
  {
   "cell_type": "code",
   "execution_count": null,
   "id": "nervous-topic",
   "metadata": {},
   "outputs": [],
   "source": []
  },
  {
   "cell_type": "code",
   "execution_count": null,
   "id": "behavioral-rogers",
   "metadata": {},
   "outputs": [],
   "source": []
  }
 ],
 "metadata": {
  "kernelspec": {
   "display_name": "Python 3",
   "language": "python",
   "name": "python3"
  },
  "language_info": {
   "codemirror_mode": {
    "name": "ipython",
    "version": 3
   },
   "file_extension": ".py",
   "mimetype": "text/x-python",
   "name": "python",
   "nbconvert_exporter": "python",
   "pygments_lexer": "ipython3",
   "version": "3.6.9"
  }
 },
 "nbformat": 4,
 "nbformat_minor": 5
}

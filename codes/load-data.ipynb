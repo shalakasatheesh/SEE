{
 "cells": [
  {
   "cell_type": "code",
   "execution_count": 9,
   "metadata": {},
   "outputs": [
    {
     "name": "stdout",
     "output_type": "stream",
     "text": [
      "Cols: ['x_front', ' y_front', ' x_back', ' y_back']\n",
      "Cols: ['x_front', ' y_front', ' x_back', ' y_back']\n",
      "Cols: ['x_front', ' y_front', ' x_back', ' y_back']\n",
      "Point(x=3, y=3)\n"
     ]
    }
   ],
   "source": [
    "import csv\n",
    "\n",
    "class Point():\n",
    "    def __init__(self, x: int, y: int):\n",
    "        self.x = int(x)\n",
    "        self.y = int(y)\n",
    "        \n",
    "    def __repr__(self):\n",
    "        return f\"Point(x={self.x}, y={self.y})\"\n",
    "    \n",
    "    def __sub__(self, other):\n",
    "        x = self.x - other.x\n",
    "        y = self.y - other.y\n",
    "        return Point(x, y)\n",
    "    \n",
    "    def __add__(self, other):\n",
    "        x = self.x + other.x\n",
    "        y = self.y + other.y\n",
    "        return Point(x, y)\n",
    "        \n",
    "\n",
    "\n",
    "\n",
    "logs = ['../data/forward_logs/', \n",
    "        '../data/left_logs/', \n",
    "        '../data/right_logs/']\n",
    "\n",
    "measurements = [('forward', '../data/measurements/pain_forward.csv'), \n",
    "                ('left', '../data/measurements/pain_left.csv'),\n",
    "                ('right', '../data/measurements/pain_right.csv')]\n",
    "\n",
    "data = {\n",
    "    'forward': [],\n",
    "    'left': [],\n",
    "    'right': []\n",
    "}\n",
    "\n",
    "start = Point(-56, -67)\n",
    "front_marker = Point(0, 69)\n",
    "back_marker = Point(0, -168)\n",
    "\n",
    "for file_info in measurements:\n",
    "    with open(file_info[1]) as file:\n",
    "        csv_reader = csv.reader(file)\n",
    "        \n",
    "        print(f'Cols: {next(csv_reader)}')\n",
    "        for line in csv_reader:\n",
    "            if line:\n",
    "                data[file_info[0]].append({\n",
    "                    'front': Point(line[0], line[1]), \n",
    "                    'back': Point(line[2], line[3])})\n",
    "\n",
    "        \n",
    "a = Point(2, 2)\n",
    "b = Point(1, 1)\n",
    "\n",
    "print(b+a)"
   ]
  },
  {
   "cell_type": "code",
   "execution_count": 24,
   "metadata": {},
   "outputs": [
    {
     "data": {
      "text/plain": [
       "{'forward': [{'front': Point(x=65, y=592), 'back': Point(x=59, y=351)},\n",
       "  {'front': Point(x=40, y=596), 'back': Point(x=47, y=356)},\n",
       "  {'front': Point(x=49, y=597), 'back': Point(x=52, y=355)},\n",
       "  {'front': Point(x=48, y=603), 'back': Point(x=51, y=363)},\n",
       "  {'front': Point(x=61, y=591), 'back': Point(x=59, y=350)},\n",
       "  {'front': Point(x=50, y=582), 'back': Point(x=58, y=342)},\n",
       "  {'front': Point(x=57, y=593), 'back': Point(x=62, y=352)},\n",
       "  {'front': Point(x=56, y=585), 'back': Point(x=60, y=344)},\n",
       "  {'front': Point(x=53, y=592), 'back': Point(x=52, y=350)},\n",
       "  {'front': Point(x=58, y=599), 'back': Point(x=55, y=359)},\n",
       "  {'front': Point(x=69, y=599), 'back': Point(x=64, y=358)},\n",
       "  {'front': Point(x=66, y=615), 'back': Point(x=69, y=356)},\n",
       "  {'front': Point(x=65, y=593), 'back': Point(x=62, y=351)},\n",
       "  {'front': Point(x=69, y=594), 'back': Point(x=64, y=354)},\n",
       "  {'front': Point(x=49, y=592), 'back': Point(x=51, y=357)},\n",
       "  {'front': Point(x=61, y=595), 'back': Point(x=60, y=353)},\n",
       "  {'front': Point(x=78, y=597), 'back': Point(x=62, y=373)},\n",
       "  {'front': Point(x=76, y=604), 'back': Point(x=67, y=363)},\n",
       "  {'front': Point(x=49, y=592), 'back': Point(x=52, y=350)},\n",
       "  {'front': Point(x=50, y=604), 'back': Point(x=55, y=368)}],\n",
       " 'left': [{'front': Point(x=-171, y=464), 'back': Point(x=22, y=328)},\n",
       "  {'front': Point(x=-161, y=447), 'back': Point(x=28, y=306)},\n",
       "  {'front': Point(x=-166, y=452), 'back': Point(x=24, y=312)},\n",
       "  {'front': Point(x=-161, y=454), 'back': Point(x=28, y=314)},\n",
       "  {'front': Point(x=-152, y=462), 'back': Point(x=34, y=316)},\n",
       "  {'front': Point(x=-165, y=458), 'back': Point(x=25, y=316)},\n",
       "  {'front': Point(x=-171, y=454), 'back': Point(x=21, y=317)},\n",
       "  {'front': Point(x=-154, y=457), 'back': Point(x=32, y=311)},\n",
       "  {'front': Point(x=-150, y=465), 'back': Point(x=32, y=318)},\n",
       "  {'front': Point(x=-159, y=452), 'back': Point(x=29, y=310)},\n",
       "  {'front': Point(x=-144, y=452), 'back': Point(x=39, y=302)},\n",
       "  {'front': Point(x=-160, y=460), 'back': Point(x=27, y=318)},\n",
       "  {'front': Point(x=-165, y=461), 'back': Point(x=24, y=318)},\n",
       "  {'front': Point(x=-154, y=464), 'back': Point(x=31, y=320)},\n",
       "  {'front': Point(x=-156, y=458), 'back': Point(x=32, y=311)},\n",
       "  {'front': Point(x=-163, y=468), 'back': Point(x=28, y=328)},\n",
       "  {'front': Point(x=-161, y=464), 'back': Point(x=27, y=318)},\n",
       "  {'front': Point(x=-166, y=465), 'back': Point(x=23, y=325)},\n",
       "  {'front': Point(x=-156, y=462), 'back': Point(x=31, y=315)},\n",
       "  {'front': Point(x=-151, y=460), 'back': Point(x=23, y=311)}],\n",
       " 'right': [{'front': Point(x=309, y=435), 'back': Point(x=107, y=306)},\n",
       "  {'front': Point(x=285, y=429), 'back': Point(x=92, y=291)},\n",
       "  {'front': Point(x=325, y=444), 'back': Point(x=117, y=328)},\n",
       "  {'front': Point(x=296, y=439), 'back': Point(x=99, y=305)},\n",
       "  {'front': Point(x=309, y=436), 'back': Point(x=122, y=286)},\n",
       "  {'front': Point(x=302, y=442), 'back': Point(x=102, y=311)},\n",
       "  {'front': Point(x=311, y=440), 'back': Point(x=105, y=315)},\n",
       "  {'front': Point(x=299, y=448), 'back': Point(x=118, y=293)},\n",
       "  {'front': Point(x=319, y=437), 'back': Point(x=115, y=314)},\n",
       "  {'front': Point(x=312, y=439), 'back': Point(x=108, y=314)},\n",
       "  {'front': Point(x=309, y=436), 'back': Point(x=106, y=318)},\n",
       "  {'front': Point(x=307, y=434), 'back': Point(x=104, y=308)},\n",
       "  {'front': Point(x=324, y=441), 'back': Point(x=115, y=314)},\n",
       "  {'front': Point(x=326, y=438), 'back': Point(x=119, y=319)},\n",
       "  {'front': Point(x=286, y=438), 'back': Point(x=90, y=298)},\n",
       "  {'front': Point(x=295, y=434), 'back': Point(x=99, y=299)},\n",
       "  {'front': Point(x=320, y=444), 'back': Point(x=112, y=322)},\n",
       "  {'front': Point(x=319, y=437), 'back': Point(x=113, y=315)},\n",
       "  {'front': Point(x=309, y=436), 'back': Point(x=104, y=308)},\n",
       "  {'front': Point(x=314, y=442), 'back': Point(x=108, y=323)}]}"
      ]
     },
     "execution_count": 24,
     "metadata": {},
     "output_type": "execute_result"
    }
   ],
   "source": [
    "data"
   ]
  },
  {
   "cell_type": "code",
   "execution_count": null,
   "metadata": {},
   "outputs": [],
   "source": []
  }
 ],
 "metadata": {
  "kernelspec": {
   "display_name": "Python 3",
   "language": "python",
   "name": "python3"
  },
  "language_info": {
   "codemirror_mode": {
    "name": "ipython",
    "version": 3
   },
   "file_extension": ".py",
   "mimetype": "text/x-python",
   "name": "python",
   "nbconvert_exporter": "python",
   "pygments_lexer": "ipython3",
   "version": "3.8.5"
  }
 },
 "nbformat": 4,
 "nbformat_minor": 4
}
